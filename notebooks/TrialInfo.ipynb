{
 "cells": [
  {
   "cell_type": "markdown",
   "metadata": {},
   "source": [
    "## Setup: \n",
    "Setup conda/mamba environment as specified in https://github.com/LorenFrankLab/spyglass/blob/master/environment.yml"
   ]
  },
  {
   "cell_type": "code",
   "execution_count": 3,
   "metadata": {},
   "outputs": [],
   "source": [
    "import datajoint as dj\n",
    "import sys\n",
    "import os\n",
    "\n",
    "# dj.config['database.host'] = \"\" # enter datajoint host url\n",
    "# dj.config['database.user'] = \"\" # enter datajoint username\n",
    "# dj.config['database.port'] = 3306\n",
    "if os.path.basename(os.getcwd()) == \"notebooks\":\n",
    "    os.chdir(\"..\")\n",
    "dj.config.load(\"dj_local_conf.json\")\n",
    "\n",
    "from spyglass.common.common_behav import StateScriptFile\n",
    "from spyglass.common.common_task import TaskEpoch\n",
    "from spyglass.common.common_nwbfile import AnalysisNwbfile\n",
    "sys.path.append(\"..\")\n",
    "from trials import TrialInfo"
   ]
  },
  {
   "cell_type": "code",
   "execution_count": 2,
   "metadata": {},
   "outputs": [
    {
     "data": {
      "image/svg+xml": [
       "<svg xmlns=\"http://www.w3.org/2000/svg\" xmlns:xlink=\"http://www.w3.org/1999/xlink\" width=\"605pt\" height=\"318pt\" viewBox=\"0.00 0.00 604.50 318.00\">\n",
       "<g id=\"graph0\" class=\"graph\" transform=\"scale(1 1) rotate(0) translate(4 314)\">\n",
       "<polygon fill=\"white\" stroke=\"transparent\" points=\"-4,4 -4,-314 600.5,-314 600.5,4 -4,4\"/>\n",
       "<!-- `common_session`.`_session` -->\n",
       "<g id=\"node1\" class=\"node\">\n",
       "<title>`common_session`.`_session`</title>\n",
       "<ellipse fill=\"#00007f\" fill-opacity=\"0.250980\" stroke=\"#00007f\" stroke-opacity=\"0.250980\" cx=\"153.5\" cy=\"-292.5\" rx=\"110\" ry=\"17.5\"/>\n",
       "<text text-anchor=\"middle\" x=\"153.5\" y=\"-289.4\" font-family=\"arial\" font-size=\"12.00\" fill=\"#00007f\" fill-opacity=\"0.627451\">`common_session`.`_session`</text>\n",
       "</g>\n",
       "<!-- `common_interval`.`interval_list` -->\n",
       "<g id=\"node3\" class=\"node\">\n",
       "<title>`common_interval`.`interval_list`</title>\n",
       "<polygon fill=\"#00ff00\" fill-opacity=\"0.188235\" stroke=\"#00ff00\" stroke-opacity=\"0.188235\" points=\"187,-239 0,-239 0,-204 187,-204 187,-239\"/>\n",
       "<text text-anchor=\"start\" x=\"8\" y=\"-219.4\" font-family=\"arial\" text-decoration=\"underline\" font-size=\"12.00\" fill=\"darkgreen\">`common_interval`.`interval_list`</text>\n",
       "</g>\n",
       "<!-- `common_session`.`_session`&#45;&gt;`common_interval`.`interval_list` -->\n",
       "<g id=\"edge1\" class=\"edge\">\n",
       "<title>`common_session`.`_session`-&gt;`common_interval`.`interval_list`</title>\n",
       "<path fill=\"none\" stroke=\"#000000\" stroke-width=\"0.75\" stroke-opacity=\"0.250980\" d=\"M138.98,-274.8C129.54,-263.95 117.3,-249.87 107.89,-239.05\"/>\n",
       "</g>\n",
       "<!-- TaskEpoch -->\n",
       "<g id=\"node5\" class=\"node\">\n",
       "<title>TaskEpoch</title>\n",
       "<g id=\"a_node5\"><a xlink:title=\"→ `common_session`.`_session`\repoch                \r------------------------------\r→ `common_task`.`task`\r→ [nullable] `common_device`.`camera_device`\r→ `common_interval`.`interval_list`\rtask_environment=null \rcamera_names         \r\">\n",
       "<ellipse fill=\"#00007f\" fill-opacity=\"0.250980\" stroke=\"#00007f\" stroke-opacity=\"0.250980\" cx=\"261.5\" cy=\"-150.5\" rx=\"47.5\" ry=\"17.5\"/>\n",
       "<text text-anchor=\"start\" x=\"231.5\" y=\"-148.4\" font-family=\"arial\" text-decoration=\"underline\" font-size=\"12.00\" fill=\"#00007f\" fill-opacity=\"0.627451\">TaskEpoch</text>\n",
       "</a>\n",
       "</g>\n",
       "</g>\n",
       "<!-- `common_session`.`_session`&#45;&gt;TaskEpoch -->\n",
       "<g id=\"edge2\" class=\"edge\">\n",
       "<title>`common_session`.`_session`-&gt;TaskEpoch</title>\n",
       "<path fill=\"none\" stroke=\"#000000\" stroke-width=\"0.75\" stroke-opacity=\"0.250980\" d=\"M166.86,-275.04C175.18,-264.75 186.05,-251.17 195.5,-239 214.64,-214.36 236.35,-185.38 249.47,-167.73\"/>\n",
       "</g>\n",
       "<!-- `common_task`.`task` -->\n",
       "<g id=\"node2\" class=\"node\">\n",
       "<title>`common_task`.`task`</title>\n",
       "<polygon fill=\"#00ff00\" fill-opacity=\"0.188235\" stroke=\"#00ff00\" stroke-opacity=\"0.188235\" points=\"374,-239 243,-239 243,-204 374,-204 374,-239\"/>\n",
       "<text text-anchor=\"start\" x=\"251\" y=\"-219.4\" font-family=\"arial\" text-decoration=\"underline\" font-size=\"12.00\" fill=\"darkgreen\">`common_task`.`task`</text>\n",
       "</g>\n",
       "<!-- `common_task`.`task`&#45;&gt;TaskEpoch -->\n",
       "<g id=\"edge3\" class=\"edge\">\n",
       "<title>`common_task`.`task`-&gt;TaskEpoch</title>\n",
       "<path fill=\"none\" stroke=\"#000000\" stroke-width=\"0.75\" stroke-dasharray=\"5,2\" stroke-opacity=\"0.250980\" d=\"M297.12,-203.8C289.62,-192.79 279.86,-178.45 272.45,-167.57\"/>\n",
       "</g>\n",
       "<!-- `common_interval`.`interval_list`&#45;&gt;TaskEpoch -->\n",
       "<g id=\"edge4\" class=\"edge\">\n",
       "<title>`common_interval`.`interval_list`-&gt;TaskEpoch</title>\n",
       "<path fill=\"none\" stroke=\"#000000\" stroke-width=\"0.75\" stroke-dasharray=\"5,2\" stroke-opacity=\"0.250980\" d=\"M133.74,-203.97C163.64,-191.69 203.8,-175.2 231.06,-164\"/>\n",
       "</g>\n",
       "<!-- `common_device`.`camera_device` -->\n",
       "<g id=\"node4\" class=\"node\">\n",
       "<title>`common_device`.`camera_device`</title>\n",
       "<polygon fill=\"#00ff00\" fill-opacity=\"0.188235\" stroke=\"#00ff00\" stroke-opacity=\"0.188235\" points=\"596.5,-239 392.5,-239 392.5,-204 596.5,-204 596.5,-239\"/>\n",
       "<text text-anchor=\"start\" x=\"400.5\" y=\"-219.4\" font-family=\"arial\" text-decoration=\"underline\" font-size=\"12.00\" fill=\"darkgreen\">`common_device`.`camera_device`</text>\n",
       "</g>\n",
       "<!-- `common_device`.`camera_device`&#45;&gt;TaskEpoch -->\n",
       "<g id=\"edge5\" class=\"edge\">\n",
       "<title>`common_device`.`camera_device`-&gt;TaskEpoch</title>\n",
       "<path fill=\"none\" stroke=\"#000000\" stroke-width=\"0.75\" stroke-dasharray=\"5,2\" stroke-opacity=\"0.250980\" d=\"M438.69,-203.97C394.8,-190.98 334.97,-173.26 297.29,-162.1\"/>\n",
       "</g>\n",
       "<!-- StateScriptFile -->\n",
       "<g id=\"node6\" class=\"node\">\n",
       "<title>StateScriptFile</title>\n",
       "<g id=\"a_node6\"><a xlink:title=\"→ TaskEpoch\r------------------------------\rfile_object_id       \r\">\n",
       "<ellipse fill=\"#00007f\" fill-opacity=\"0.250980\" stroke=\"#00007f\" stroke-opacity=\"0.250980\" cx=\"261.5\" cy=\"-79.5\" rx=\"59.25\" ry=\"17.5\"/>\n",
       "<text text-anchor=\"middle\" x=\"261.5\" y=\"-76.4\" font-family=\"arial\" font-size=\"12.00\" fill=\"#00007f\" fill-opacity=\"0.627451\">StateScriptFile</text>\n",
       "</a>\n",
       "</g>\n",
       "</g>\n",
       "<!-- TaskEpoch&#45;&gt;StateScriptFile -->\n",
       "<g id=\"edge6\" class=\"edge\">\n",
       "<title>TaskEpoch-&gt;StateScriptFile</title>\n",
       "<path fill=\"none\" stroke=\"#000000\" stroke-width=\"2\" stroke-opacity=\"0.250980\" d=\"M261.5,-132.8C261.5,-121.95 261.5,-107.87 261.5,-97.05\"/>\n",
       "</g>\n",
       "<!-- TrialInfo -->\n",
       "<g id=\"node7\" class=\"node\">\n",
       "<title>TrialInfo</title>\n",
       "<g id=\"a_node7\"><a xlink:title=\"→ StateScriptFile\r------------------------------\r→ AnalysisNwbfile\rtrial_info_object_id \rparser               \rdescriptors=null     \r\">\n",
       "<ellipse fill=\"#ff0000\" fill-opacity=\"0.125490\" stroke=\"#ff0000\" stroke-opacity=\"0.125490\" cx=\"325.5\" cy=\"-13\" rx=\"13\" ry=\"13\"/>\n",
       "<text text-anchor=\"middle\" x=\"325.5\" y=\"-9.9\" font-family=\"arial\" font-size=\"12.00\" fill=\"#7f0000\" fill-opacity=\"0.627451\">TrialInfo</text>\n",
       "</a>\n",
       "</g>\n",
       "</g>\n",
       "<!-- StateScriptFile&#45;&gt;TrialInfo -->\n",
       "<g id=\"edge7\" class=\"edge\">\n",
       "<title>StateScriptFile-&gt;TrialInfo</title>\n",
       "<path fill=\"none\" stroke=\"#000000\" stroke-width=\"2\" stroke-opacity=\"0.250980\" d=\"M277.32,-62.56C289.76,-50.02 306.62,-33.03 316.74,-22.82\"/>\n",
       "</g>\n",
       "<!-- AnalysisNwbfile -->\n",
       "<g id=\"node8\" class=\"node\">\n",
       "<title>AnalysisNwbfile</title>\n",
       "<g id=\"a_node8\"><a xlink:title=\"analysis_file_name   \r------------------------------\r→ `common_nwbfile`.`nwbfile`\ranalysis_file_abs_path \ranalysis_file_description=&quot;&quot; \ranalysis_parameters=null \rINDEX (analysis_file_abs_path)\r\">\n",
       "<polygon fill=\"#00ff00\" fill-opacity=\"0.188235\" stroke=\"#00ff00\" stroke-opacity=\"0.188235\" points=\"442,-97 339,-97 339,-62 442,-62 442,-97\"/>\n",
       "<text text-anchor=\"start\" x=\"347\" y=\"-77.4\" font-family=\"arial\" text-decoration=\"underline\" font-size=\"12.00\" fill=\"darkgreen\">AnalysisNwbfile</text>\n",
       "</a>\n",
       "</g>\n",
       "</g>\n",
       "<!-- AnalysisNwbfile&#45;&gt;TrialInfo -->\n",
       "<g id=\"edge8\" class=\"edge\">\n",
       "<title>AnalysisNwbfile-&gt;TrialInfo</title>\n",
       "<path fill=\"none\" stroke=\"#000000\" stroke-width=\"0.75\" stroke-dasharray=\"5,2\" stroke-opacity=\"0.250980\" d=\"M373.76,-61.89C361.27,-49.5 344.69,-33.04 334.57,-23\"/>\n",
       "</g>\n",
       "</g>\n",
       "</svg>"
      ],
      "text/plain": [
       "<datajoint.diagram.Diagram at 0x7f623d516460>"
      ]
     },
     "execution_count": 2,
     "metadata": {},
     "output_type": "execute_result"
    }
   ],
   "source": [
    "dj.Diagram(TaskEpoch) + dj.Diagram(TrialInfo) - 1"
   ]
  },
  {
   "cell_type": "code",
   "execution_count": 4,
   "metadata": {},
   "outputs": [
    {
     "data": {
      "text/plain": [
       "# \n",
       "nwb_file_name        : varchar(64)                  # name of the NWB file\n",
       "epoch                : int                          # the session epoch for this task and apparatus(1 based)\n",
       "---\n",
       "analysis_file_name   : varchar(64)                  # name of the file\n",
       "trial_info_object_id : varchar(40)                  # the NWB object ID for loading this object from the file\n",
       "parser               : varchar(100)                 # type of parser used to interpret statescript log\n",
       "descriptors=null     : blob                         # global descriptors for task"
      ]
     },
     "execution_count": 4,
     "metadata": {},
     "output_type": "execute_result"
    }
   ],
   "source": [
    "TrialInfo.heading"
   ]
  },
  {
   "cell_type": "markdown",
   "metadata": {},
   "source": [
    "## Testing insert of a single session:\n",
    "Normally this would be auto computed from each entry in StateScriptFile, but for now we can test inserting a single session"
   ]
  },
  {
   "cell_type": "code",
   "execution_count": 5,
   "metadata": {},
   "outputs": [],
   "source": [
    "nwb_file_name = 'bobrick20231114_.nwb'"
   ]
  },
  {
   "cell_type": "code",
   "execution_count": 6,
   "metadata": {},
   "outputs": [
    {
     "name": "stderr",
     "output_type": "stream",
     "text": [
      "[00:24:31][INFO] Spyglass: Skipping sleep epoch: 01_s1\n",
      "[00:24:32][INFO] Spyglass: Writing new NWB file bobrick20231114_85N601WSWK.nwb\n",
      "[00:24:33][INFO] Spyglass: Skipping sleep epoch: 03_s2\n"
     ]
    },
    {
     "name": "stdout",
     "output_type": "stream",
     "text": [
      "bug trial #9, epoch 4! line 265: index 0 is out of bounds for axis 0 with size 0\n",
      "bug trial #10, epoch 4! line 297: \n",
      "bug trial #21, epoch 4! line 265: index 0 is out of bounds for axis 0 with size 0\n",
      "bug trial #22, epoch 4! line 297: \n"
     ]
    },
    {
     "name": "stderr",
     "output_type": "stream",
     "text": [
      "[00:24:34][INFO] Spyglass: Writing new NWB file bobrick20231114_NEGDLK23FZ.nwb\n",
      "[00:24:35][INFO] Spyglass: Skipping sleep epoch: 05_s3\n"
     ]
    }
   ],
   "source": [
    "TrialInfo.populate(StateScriptFile & {'nwb_file_name' : nwb_file_name})"
   ]
  },
  {
   "cell_type": "code",
   "execution_count": 7,
   "metadata": {},
   "outputs": [
    {
     "data": {
      "text/html": [
       "\n",
       "    \n",
       "    <style type=\"text/css\">\n",
       "        .Table{\n",
       "            border-collapse:collapse;\n",
       "        }\n",
       "        .Table th{\n",
       "            background: #A0A0A0; color: #ffffff; padding:4px; border:#f0e0e0 1px solid;\n",
       "            font-weight: normal; font-family: monospace; font-size: 100%;\n",
       "        }\n",
       "        .Table td{\n",
       "            padding:4px; border:#f0e0e0 1px solid; font-size:100%;\n",
       "        }\n",
       "        .Table tr:nth-child(odd){\n",
       "            background: #ffffff;\n",
       "            color: #000000;\n",
       "        }\n",
       "        .Table tr:nth-child(even){\n",
       "            background: #f3f1ff;\n",
       "            color: #000000;\n",
       "        }\n",
       "        /* Tooltip container */\n",
       "        .djtooltip {\n",
       "        }\n",
       "        /* Tooltip text */\n",
       "        .djtooltip .djtooltiptext {\n",
       "            visibility: hidden;\n",
       "            width: 120px;\n",
       "            background-color: black;\n",
       "            color: #fff;\n",
       "            text-align: center;\n",
       "            padding: 5px 0;\n",
       "            border-radius: 6px;\n",
       "            /* Position the tooltip text - see examples below! */\n",
       "            position: absolute;\n",
       "            z-index: 1;\n",
       "        }\n",
       "        #primary {\n",
       "            font-weight: bold;\n",
       "            color: black;\n",
       "        }\n",
       "        #nonprimary {\n",
       "            font-weight: normal;\n",
       "            color: white;\n",
       "        }\n",
       "\n",
       "        /* Show the tooltip text when you mouse over the tooltip container */\n",
       "        .djtooltip:hover .djtooltiptext {\n",
       "            visibility: visible;\n",
       "        }\n",
       "    </style>\n",
       "    \n",
       "    <b></b>\n",
       "        <div style=\"max-height:1000px;max-width:1500px;overflow:auto;\">\n",
       "        <table border=\"1\" class=\"Table\">\n",
       "            <thead> <tr style=\"text-align: right;\"> <th> <div class=\"djtooltip\">\n",
       "                            <p id=\"primary\">nwb_file_name</p>\n",
       "                            <span class=\"djtooltiptext\">name of the NWB file</span>\n",
       "                        </div></th><th><div class=\"djtooltip\">\n",
       "                            <p id=\"primary\">epoch</p>\n",
       "                            <span class=\"djtooltiptext\">the session epoch for this task and apparatus(1 based)</span>\n",
       "                        </div></th><th><div class=\"djtooltip\">\n",
       "                            <p id=\"nonprimary\">analysis_file_name</p>\n",
       "                            <span class=\"djtooltiptext\">name of the file</span>\n",
       "                        </div></th><th><div class=\"djtooltip\">\n",
       "                            <p id=\"nonprimary\">trial_info_object_id</p>\n",
       "                            <span class=\"djtooltiptext\">the NWB object ID for loading this object from the file</span>\n",
       "                        </div></th><th><div class=\"djtooltip\">\n",
       "                            <p id=\"nonprimary\">parser</p>\n",
       "                            <span class=\"djtooltiptext\">type of parser used to interpret statescript log</span>\n",
       "                        </div></th><th><div class=\"djtooltip\">\n",
       "                            <p id=\"nonprimary\">descriptors</p>\n",
       "                            <span class=\"djtooltiptext\">global descriptors for task</span>\n",
       "                        </div> </th> </tr> </thead>\n",
       "            <tbody> <tr> <td>bobrick20231114_.nwb</td>\n",
       "<td>2</td>\n",
       "<td>bobrick20231114_85N601WSWK.nwb</td>\n",
       "<td>1549f541-fbbd-406d-aa8d-9b6ff537baaf</td>\n",
       "<td>V8_delay</td>\n",
       "<td>=BLOB=</td></tr><tr><td>bobrick20231114_.nwb</td>\n",
       "<td>4</td>\n",
       "<td>bobrick20231114_NEGDLK23FZ.nwb</td>\n",
       "<td>5e66b5d9-de1c-44a8-8f34-ab3e1ed51475</td>\n",
       "<td>V8_delay</td>\n",
       "<td>=BLOB=</td> </tr> </tbody>\n",
       "        </table>\n",
       "        \n",
       "        <p>Total: 2</p></div>\n",
       "        "
      ],
      "text/plain": [
       "*nwb_file_name *epoch    analysis_file_ trial_info_obj parser       descriptor\n",
       "+------------+ +-------+ +------------+ +------------+ +----------+ +--------+\n",
       "bobrick2023111 2         bobrick2023111 1549f541-fbbd- V8_delay     =BLOB=    \n",
       "bobrick2023111 4         bobrick2023111 5e66b5d9-de1c- V8_delay     =BLOB=    \n",
       " (Total: 2)"
      ]
     },
     "execution_count": 7,
     "metadata": {},
     "output_type": "execute_result"
    }
   ],
   "source": [
    "TrialInfo()"
   ]
  },
  {
   "cell_type": "code",
   "execution_count": 8,
   "metadata": {},
   "outputs": [
    {
     "data": {
      "text/html": [
       "\n",
       "    \n",
       "    <style type=\"text/css\">\n",
       "        .Table{\n",
       "            border-collapse:collapse;\n",
       "        }\n",
       "        .Table th{\n",
       "            background: #A0A0A0; color: #ffffff; padding:4px; border:#f0e0e0 1px solid;\n",
       "            font-weight: normal; font-family: monospace; font-size: 100%;\n",
       "        }\n",
       "        .Table td{\n",
       "            padding:4px; border:#f0e0e0 1px solid; font-size:100%;\n",
       "        }\n",
       "        .Table tr:nth-child(odd){\n",
       "            background: #ffffff;\n",
       "            color: #000000;\n",
       "        }\n",
       "        .Table tr:nth-child(even){\n",
       "            background: #f3f1ff;\n",
       "            color: #000000;\n",
       "        }\n",
       "        /* Tooltip container */\n",
       "        .djtooltip {\n",
       "        }\n",
       "        /* Tooltip text */\n",
       "        .djtooltip .djtooltiptext {\n",
       "            visibility: hidden;\n",
       "            width: 120px;\n",
       "            background-color: black;\n",
       "            color: #fff;\n",
       "            text-align: center;\n",
       "            padding: 5px 0;\n",
       "            border-radius: 6px;\n",
       "            /* Position the tooltip text - see examples below! */\n",
       "            position: absolute;\n",
       "            z-index: 1;\n",
       "        }\n",
       "        #primary {\n",
       "            font-weight: bold;\n",
       "            color: black;\n",
       "        }\n",
       "        #nonprimary {\n",
       "            font-weight: normal;\n",
       "            color: white;\n",
       "        }\n",
       "\n",
       "        /* Show the tooltip text when you mouse over the tooltip container */\n",
       "        .djtooltip:hover .djtooltiptext {\n",
       "            visibility: visible;\n",
       "        }\n",
       "    </style>\n",
       "    \n",
       "    <b>Table for holding the NWB files that contain results of analysis, such as spike sorting.</b>\n",
       "        <div style=\"max-height:1000px;max-width:1500px;overflow:auto;\">\n",
       "        <table border=\"1\" class=\"Table\">\n",
       "            <thead> <tr style=\"text-align: right;\"> <th> <div class=\"djtooltip\">\n",
       "                            <p id=\"primary\">analysis_file_name</p>\n",
       "                            <span class=\"djtooltiptext\">name of the file</span>\n",
       "                        </div></th><th><div class=\"djtooltip\">\n",
       "                            <p id=\"nonprimary\">nwb_file_name</p>\n",
       "                            <span class=\"djtooltiptext\">name of the NWB file</span>\n",
       "                        </div></th><th><div class=\"djtooltip\">\n",
       "                            <p id=\"nonprimary\">analysis_file_abs_path</p>\n",
       "                            <span class=\"djtooltiptext\">the full path to the file</span>\n",
       "                        </div></th><th><div class=\"djtooltip\">\n",
       "                            <p id=\"nonprimary\">analysis_file_description</p>\n",
       "                            <span class=\"djtooltiptext\">an optional description of this analysis</span>\n",
       "                        </div></th><th><div class=\"djtooltip\">\n",
       "                            <p id=\"nonprimary\">analysis_parameters</p>\n",
       "                            <span class=\"djtooltiptext\">additional relevant parameters. Currently used only for analyses</span>\n",
       "                        </div> </th> </tr> </thead>\n",
       "            <tbody> <tr> <td>bobrick20231114_08Y3KCF90R.nwb</td>\n",
       "<td>bobrick20231114_.nwb</td>\n",
       "<td>=BLOB=</td>\n",
       "<td></td>\n",
       "<td>=BLOB=</td></tr><tr><td>bobrick20231114_85N601WSWK.nwb</td>\n",
       "<td>bobrick20231114_.nwb</td>\n",
       "<td>=BLOB=</td>\n",
       "<td></td>\n",
       "<td>=BLOB=</td></tr><tr><td>bobrick20231114_NEGDLK23FZ.nwb</td>\n",
       "<td>bobrick20231114_.nwb</td>\n",
       "<td>=BLOB=</td>\n",
       "<td></td>\n",
       "<td>=BLOB=</td></tr><tr><td>bobrick20231114_P85E8D52ZQ.nwb</td>\n",
       "<td>bobrick20231114_.nwb</td>\n",
       "<td>=BLOB=</td>\n",
       "<td></td>\n",
       "<td>=BLOB=</td> </tr> </tbody>\n",
       "        </table>\n",
       "        \n",
       "        <p>Total: 4</p></div>\n",
       "        "
      ],
      "text/plain": [
       "*analysis_file nwb_file_name  analysis_f analysis_file_ analysis_p\n",
       "+------------+ +------------+ +--------+ +------------+ +--------+\n",
       "bobrick2023111 bobrick2023111 =BLOB=                    =BLOB=    \n",
       "bobrick2023111 bobrick2023111 =BLOB=                    =BLOB=    \n",
       "bobrick2023111 bobrick2023111 =BLOB=                    =BLOB=    \n",
       "bobrick2023111 bobrick2023111 =BLOB=                    =BLOB=    \n",
       " (Total: 4)"
      ]
     },
     "execution_count": 8,
     "metadata": {},
     "output_type": "execute_result"
    }
   ],
   "source": [
    "# The resulting entry in AnalysisNwbfile that was generated\n",
    "(AnalysisNwbfile & {\"nwb_file_name\" : \"bobrick20231114_.nwb\"})"
   ]
  },
  {
   "cell_type": "markdown",
   "metadata": {},
   "source": [
    "## Reading the resulting analysis file"
   ]
  },
  {
   "cell_type": "code",
   "execution_count": 9,
   "metadata": {},
   "outputs": [],
   "source": [
    "# select a specific epoch for the inserted session\n",
    "restr = {\"nwb_file_name\": \"bobrick20231114_.nwb\", \"epoch\": 2}"
   ]
  },
  {
   "cell_type": "code",
   "execution_count": 10,
   "metadata": {},
   "outputs": [
    {
     "data": {
      "text/plain": [
       "{'statescript': 'V8pre_delay_locknoise_uw.sc',\n",
       " 'lockout_period': 30.0,\n",
       " 'python_script': 'V8.py',\n",
       " 'outer_reps': 15,\n",
       " 'num_goals': 1,\n",
       " 'forage_num': 1}"
      ]
     },
     "execution_count": 10,
     "metadata": {},
     "output_type": "execute_result"
    }
   ],
   "source": [
    "# accessing trial descriptors\n",
    "(TrialInfo & restr).fetch1(\"descriptors\")"
   ]
  },
  {
   "cell_type": "code",
   "execution_count": 11,
   "metadata": {},
   "outputs": [
    {
     "data": {
      "text/html": [
       "\n",
       "        <style>\n",
       "            .container-fields {\n",
       "                font-family: \"Open Sans\", Arial, sans-serif;\n",
       "            }\n",
       "            .container-fields .field-value {\n",
       "                color: #00788E;\n",
       "            }\n",
       "            .container-fields details > summary {\n",
       "                cursor: pointer;\n",
       "                display: list-item;\n",
       "            }\n",
       "            .container-fields details > summary:hover {\n",
       "                color: #0A6EAA;\n",
       "            }\n",
       "        </style>\n",
       "        \n",
       "        <script>\n",
       "            function copyToClipboard(text) {\n",
       "                navigator.clipboard.writeText(text).then(function() {\n",
       "                    console.log('Copied to clipboard: ' + text);\n",
       "                }, function(err) {\n",
       "                    console.error('Could not copy text: ', err);\n",
       "                });\n",
       "            }\n",
       "\n",
       "            document.addEventListener('DOMContentLoaded', function() {\n",
       "                let fieldKeys = document.querySelectorAll('.container-fields .field-key');\n",
       "                fieldKeys.forEach(function(fieldKey) {\n",
       "                    fieldKey.addEventListener('click', function() {\n",
       "                        let accessCode = fieldKey.getAttribute('title').replace('Access code: ', '');\n",
       "                        copyToClipboard(accessCode);\n",
       "                    });\n",
       "                });\n",
       "            });\n",
       "        </script>\n",
       "        <div class='container-wrap'><div class='container-header'><div class='xr-obj-type'><h3>Trials dataframe for bobrick_06, epoch 2 (DynamicTable)</h3></div></div><div style=\"margin-left: 0px;\" class=\"container-fields\"><span class=\"field-key\" title=\"\">description: </span><span class=\"field-value\"></span></div><details><summary style=\"display: list-item; margin-left: 0px;\" class=\"container-fields field-key\" title=\"\"><b>table</b></summary><table border=\"1\" class=\"dataframe\">\n",
       "  <thead>\n",
       "    <tr style=\"text-align: right;\">\n",
       "      <th></th>\n",
       "      <th>start_time</th>\n",
       "      <th>end_time</th>\n",
       "      <th>lockout_starts</th>\n",
       "      <th>lockout_ends</th>\n",
       "      <th>during_lockout</th>\n",
       "      <th>lockout_type</th>\n",
       "      <th>rw_start</th>\n",
       "      <th>rw_end</th>\n",
       "      <th>leave_home</th>\n",
       "      <th>leave_rw</th>\n",
       "      <th>trial_type</th>\n",
       "      <th>outer_well</th>\n",
       "      <th>outer_time</th>\n",
       "      <th>leave_outer</th>\n",
       "      <th>outer_success</th>\n",
       "      <th>goal_well</th>\n",
       "      <th>rw_success</th>\n",
       "    </tr>\n",
       "    <tr>\n",
       "      <th>id</th>\n",
       "      <th></th>\n",
       "      <th></th>\n",
       "      <th></th>\n",
       "      <th></th>\n",
       "      <th></th>\n",
       "      <th></th>\n",
       "      <th></th>\n",
       "      <th></th>\n",
       "      <th></th>\n",
       "      <th></th>\n",
       "      <th></th>\n",
       "      <th></th>\n",
       "      <th></th>\n",
       "      <th></th>\n",
       "      <th></th>\n",
       "      <th></th>\n",
       "      <th></th>\n",
       "    </tr>\n",
       "  </thead>\n",
       "  <tbody>\n",
       "    <tr>\n",
       "      <th>1</th>\n",
       "      <td>1.699984e+09</td>\n",
       "      <td>1.699984e+09</td>\n",
       "      <td>[1699984390.1323001]</td>\n",
       "      <td>[1699984420.1323001]</td>\n",
       "      <td>[11, 9]</td>\n",
       "      <td>3.0</td>\n",
       "      <td>1.699984e+09</td>\n",
       "      <td>1.699984e+09</td>\n",
       "      <td>1.699984e+09</td>\n",
       "      <td>1.699984e+09</td>\n",
       "      <td>2.0</td>\n",
       "      <td>0</td>\n",
       "      <td>0.000000e+00</td>\n",
       "      <td>0.000000e+00</td>\n",
       "      <td>0.0</td>\n",
       "      <td>5.0</td>\n",
       "      <td>0.0</td>\n",
       "    </tr>\n",
       "    <tr>\n",
       "      <th>2</th>\n",
       "      <td>1.699984e+09</td>\n",
       "      <td>1.699985e+09</td>\n",
       "      <td>[1699984475.5333002]</td>\n",
       "      <td>[1699984505.5333002]</td>\n",
       "      <td>[2, 9]</td>\n",
       "      <td>1.0</td>\n",
       "      <td>1.699984e+09</td>\n",
       "      <td>1.699984e+09</td>\n",
       "      <td>1.699984e+09</td>\n",
       "      <td>1.699984e+09</td>\n",
       "      <td>2.0</td>\n",
       "      <td>0</td>\n",
       "      <td>0.000000e+00</td>\n",
       "      <td>0.000000e+00</td>\n",
       "      <td>0.0</td>\n",
       "      <td>5.0</td>\n",
       "      <td>1.0</td>\n",
       "    </tr>\n",
       "    <tr>\n",
       "      <th>3</th>\n",
       "      <td>1.699985e+09</td>\n",
       "      <td>1.699985e+09</td>\n",
       "      <td>[1699984538.3913]</td>\n",
       "      <td>[1699984568.3913]</td>\n",
       "      <td>[7]</td>\n",
       "      <td>3.0</td>\n",
       "      <td>1.699985e+09</td>\n",
       "      <td>1.699985e+09</td>\n",
       "      <td>1.699985e+09</td>\n",
       "      <td>1.699985e+09</td>\n",
       "      <td>2.0</td>\n",
       "      <td>0</td>\n",
       "      <td>0.000000e+00</td>\n",
       "      <td>0.000000e+00</td>\n",
       "      <td>0.0</td>\n",
       "      <td>5.0</td>\n",
       "      <td>0.0</td>\n",
       "    </tr>\n",
       "    <tr>\n",
       "      <th>4</th>\n",
       "      <td>1.699985e+09</td>\n",
       "      <td>1.699985e+09</td>\n",
       "      <td>[]</td>\n",
       "      <td>[]</td>\n",
       "      <td>[]</td>\n",
       "      <td>0.0</td>\n",
       "      <td>1.699985e+09</td>\n",
       "      <td>1.699985e+09</td>\n",
       "      <td>1.699985e+09</td>\n",
       "      <td>1.699985e+09</td>\n",
       "      <td>2.0</td>\n",
       "      <td>10</td>\n",
       "      <td>1.699985e+09</td>\n",
       "      <td>1.699985e+09</td>\n",
       "      <td>0.0</td>\n",
       "      <td>5.0</td>\n",
       "      <td>1.0</td>\n",
       "    </tr>\n",
       "  </tbody>\n",
       "</table><p>... and 30 more rows.</p></details></div>"
      ],
      "text/plain": [
       "Trials dataframe for bobrick_06, epoch 2 hdmf.common.table.DynamicTable at 0x140059732418176\n",
       "Fields:\n",
       "  colnames: ['start_time' 'end_time' 'lockout_starts' 'lockout_ends' 'during_lockout'\n",
       " 'lockout_type' 'rw_start' 'rw_end' 'leave_home' 'leave_rw' 'trial_type'\n",
       " 'outer_well' 'outer_time' 'leave_outer' 'outer_success' 'goal_well'\n",
       " 'rw_success']\n",
       "  columns: (\n",
       "    start_time <class 'hdmf.common.table.VectorData'>,\n",
       "    end_time <class 'hdmf.common.table.VectorData'>,\n",
       "    lockout_starts_index <class 'hdmf.common.table.VectorIndex'>,\n",
       "    lockout_starts <class 'hdmf.common.table.VectorData'>,\n",
       "    lockout_ends_index <class 'hdmf.common.table.VectorIndex'>,\n",
       "    lockout_ends <class 'hdmf.common.table.VectorData'>,\n",
       "    during_lockout_index <class 'hdmf.common.table.VectorIndex'>,\n",
       "    during_lockout <class 'hdmf.common.table.VectorData'>,\n",
       "    lockout_type <class 'hdmf.common.table.VectorData'>,\n",
       "    rw_start <class 'hdmf.common.table.VectorData'>,\n",
       "    rw_end <class 'hdmf.common.table.VectorData'>,\n",
       "    leave_home <class 'hdmf.common.table.VectorData'>,\n",
       "    leave_rw <class 'hdmf.common.table.VectorData'>,\n",
       "    trial_type <class 'hdmf.common.table.VectorData'>,\n",
       "    outer_well <class 'hdmf.common.table.VectorData'>,\n",
       "    outer_time <class 'hdmf.common.table.VectorData'>,\n",
       "    leave_outer <class 'hdmf.common.table.VectorData'>,\n",
       "    outer_success <class 'hdmf.common.table.VectorData'>,\n",
       "    goal_well <class 'hdmf.common.table.VectorData'>,\n",
       "    rw_success <class 'hdmf.common.table.VectorData'>\n",
       "  )\n",
       "  id: id <class 'hdmf.common.table.ElementIdentifiers'>"
      ]
     },
     "execution_count": 11,
     "metadata": {},
     "output_type": "execute_result"
    }
   ],
   "source": [
    "# retrieve a dataframe containing info from each trial on the selected epoch\n",
    "(TrialInfo & restr).fetch1_dataframe()"
   ]
  },
  {
   "cell_type": "code",
   "execution_count": 13,
   "metadata": {},
   "outputs": [
    {
     "name": "stdout",
     "output_type": "stream",
     "text": [
      "Using matplotlib backend: <object object at 0x7faab38e17d0>\n"
     ]
    }
   ],
   "source": [
    "# option: run this cell to get an interactive plot (only works in jupyter, not vscode)\n",
    "%matplotlib notebook"
   ]
  },
  {
   "cell_type": "code",
   "execution_count": 12,
   "metadata": {},
   "outputs": [
    {
     "data": {
      "image/png": "[encoded data removed]",
      "text/plain": [
       "<Figure size 1000x1000 with 2 Axes>"
      ]
     },
     "metadata": {},
     "output_type": "display_data"
    }
   ],
   "source": [
    "# optional: visualize landmark times during epoch\n",
    "(TrialInfo & restr).plot_trials()"
   ]
  },
  {
   "cell_type": "markdown",
   "metadata": {},
   "source": [
    "## Deleting Entries"
   ]
  },
  {
   "cell_type": "code",
   "execution_count": 10,
   "metadata": {},
   "outputs": [
    {
     "name": "stderr",
     "output_type": "stream",
     "text": [
      "[2024-03-15 00:21:59,607][INFO]: Deleting 2 rows from `TrialsInfo`.`__trial_info`\n",
      "[2024-03-15 00:22:01,162][INFO]: Deletes committed.\n"
     ]
    },
    {
     "data": {
      "text/plain": [
       "2"
      ]
     },
     "execution_count": 10,
     "metadata": {},
     "output_type": "execute_result"
    }
   ],
   "source": [
    "(TrialInfo & {\"nwb_file_name\" : \"bobrick20231114_.nwb\"}).delete()"
   ]
  },
  {
   "cell_type": "code",
   "execution_count": 11,
   "metadata": {},
   "outputs": [
    {
     "data": {
      "text/html": [
       "\n",
       "    \n",
       "    <style type=\"text/css\">\n",
       "        .Table{\n",
       "            border-collapse:collapse;\n",
       "        }\n",
       "        .Table th{\n",
       "            background: #A0A0A0; color: #ffffff; padding:4px; border:#f0e0e0 1px solid;\n",
       "            font-weight: normal; font-family: monospace; font-size: 100%;\n",
       "        }\n",
       "        .Table td{\n",
       "            padding:4px; border:#f0e0e0 1px solid; font-size:100%;\n",
       "        }\n",
       "        .Table tr:nth-child(odd){\n",
       "            background: #ffffff;\n",
       "            color: #000000;\n",
       "        }\n",
       "        .Table tr:nth-child(even){\n",
       "            background: #f3f1ff;\n",
       "            color: #000000;\n",
       "        }\n",
       "        /* Tooltip container */\n",
       "        .djtooltip {\n",
       "        }\n",
       "        /* Tooltip text */\n",
       "        .djtooltip .djtooltiptext {\n",
       "            visibility: hidden;\n",
       "            width: 120px;\n",
       "            background-color: black;\n",
       "            color: #fff;\n",
       "            text-align: center;\n",
       "            padding: 5px 0;\n",
       "            border-radius: 6px;\n",
       "            /* Position the tooltip text - see examples below! */\n",
       "            position: absolute;\n",
       "            z-index: 1;\n",
       "        }\n",
       "        #primary {\n",
       "            font-weight: bold;\n",
       "            color: black;\n",
       "        }\n",
       "        #nonprimary {\n",
       "            font-weight: normal;\n",
       "            color: white;\n",
       "        }\n",
       "\n",
       "        /* Show the tooltip text when you mouse over the tooltip container */\n",
       "        .djtooltip:hover .djtooltiptext {\n",
       "            visibility: visible;\n",
       "        }\n",
       "    </style>\n",
       "    \n",
       "    <b></b>\n",
       "        <div style=\"max-height:1000px;max-width:1500px;overflow:auto;\">\n",
       "        <table border=\"1\" class=\"Table\">\n",
       "            <thead> <tr style=\"text-align: right;\"> <th> <div class=\"djtooltip\">\n",
       "                            <p id=\"primary\">nwb_file_name</p>\n",
       "                            <span class=\"djtooltiptext\">name of the NWB file</span>\n",
       "                        </div></th><th><div class=\"djtooltip\">\n",
       "                            <p id=\"primary\">epoch</p>\n",
       "                            <span class=\"djtooltiptext\">the session epoch for this task and apparatus(1 based)</span>\n",
       "                        </div></th><th><div class=\"djtooltip\">\n",
       "                            <p id=\"nonprimary\">analysis_file_name</p>\n",
       "                            <span class=\"djtooltiptext\">name of the file</span>\n",
       "                        </div></th><th><div class=\"djtooltip\">\n",
       "                            <p id=\"nonprimary\">trial_info_object_id</p>\n",
       "                            <span class=\"djtooltiptext\">the NWB object ID for loading this object from the file</span>\n",
       "                        </div></th><th><div class=\"djtooltip\">\n",
       "                            <p id=\"nonprimary\">parser</p>\n",
       "                            <span class=\"djtooltiptext\">type of parser used to interpret statescript log</span>\n",
       "                        </div></th><th><div class=\"djtooltip\">\n",
       "                            <p id=\"nonprimary\">descriptors</p>\n",
       "                            <span class=\"djtooltiptext\">global descriptors for task</span>\n",
       "                        </div> </th> </tr> </thead>\n",
       "            <tbody> <tr>  </tr> </tbody>\n",
       "        </table>\n",
       "        \n",
       "        <p>Total: 0</p></div>\n",
       "        "
      ],
      "text/plain": [
       "*nwb_file_name *epoch    analysis_file_ trial_info_obj parser     descriptor\n",
       "+------------+ +-------+ +------------+ +------------+ +--------+ +--------+\n",
       "\n",
       " (Total: 0)"
      ]
     },
     "execution_count": 11,
     "metadata": {},
     "output_type": "execute_result"
    }
   ],
   "source": [
    "TrialInfo & {\"nwb_file_name\" : \"bobrick20231114_.nwb\"}"
   ]
  },
  {
   "cell_type": "code",
   "execution_count": 14,
   "metadata": {},
   "outputs": [
    {
     "name": "stderr",
     "output_type": "stream",
     "text": [
      "100%|██████████| 27/27 [00:00<00:00, 41.53it/s]\n"
     ]
    }
   ],
   "source": [
    "# Automatically deletes AnalysisNwbfile entries that are not referenced a downstream table\n",
    "# Removes the filepath entries for NWB files that are not in use.\n",
    "AnalysisNwbfile.nightly_cleanup()"
   ]
  }
 ],
 "metadata": {
  "kernelspec": {
   "display_name": "molly_spyglass_env2",
   "language": "python",
   "name": "python3"
  },
  "language_info": {
   "codemirror_mode": {
    "name": "ipython",
    "version": 3
   },
   "file_extension": ".py",
   "mimetype": "text/x-python",
   "name": "python",
   "nbconvert_exporter": "python",
   "pygments_lexer": "ipython3",
   "version": "3.9.18"
  }
 },
 "nbformat": 4,
 "nbformat_minor": 2
}
